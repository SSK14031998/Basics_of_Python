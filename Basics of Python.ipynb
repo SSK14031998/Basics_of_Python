{
 "cells": [
  {
   "cell_type": "code",
   "execution_count": 3,
   "id": "03922860",
   "metadata": {},
   "outputs": [
    {
     "name": "stdout",
     "output_type": "stream",
     "text": [
      "['False', 'None', 'True', 'and', 'as', 'assert', 'async', 'await', 'break', 'class', 'continue', 'def', 'del', 'elif', 'else', 'except', 'finally', 'for', 'from', 'global', 'if', 'import', 'in', 'is', 'lambda', 'nonlocal', 'not', 'or', 'pass', 'raise', 'return', 'try', 'while', 'with', 'yield']\n"
     ]
    }
   ],
   "source": [
    "import keyword\n",
    "print(keyword.kwlist)"
   ]
  },
  {
   "cell_type": "code",
   "execution_count": 5,
   "id": "87481019",
   "metadata": {},
   "outputs": [
    {
     "data": {
      "text/plain": [
       "35"
      ]
     },
     "execution_count": 5,
     "metadata": {},
     "output_type": "execute_result"
    }
   ],
   "source": [
    "len(keyword.kwlist)"
   ]
  },
  {
   "cell_type": "code",
   "execution_count": 8,
   "id": "9490cbe6",
   "metadata": {},
   "outputs": [
    {
     "data": {
      "text/plain": [
       "18"
      ]
     },
     "execution_count": 8,
     "metadata": {},
     "output_type": "execute_result"
    }
   ],
   "source": [
    "y=[6,8,7,5,4,5,6,7,8,3,1,2,3,4,12,3,4,565]\n",
    "len(y)"
   ]
  },
  {
   "cell_type": "code",
   "execution_count": 10,
   "id": "b014c53e",
   "metadata": {},
   "outputs": [
    {
     "name": "stdout",
     "output_type": "stream",
     "text": [
      "17\n"
     ]
    }
   ],
   "source": [
    "a=8\n",
    "b=9\n",
    "print(a+b)"
   ]
  },
  {
   "cell_type": "code",
   "execution_count": 12,
   "id": "9dfa1ceb",
   "metadata": {},
   "outputs": [],
   "source": [
    "# Single line statement\n",
    "p=['a','b','c','d']"
   ]
  },
  {
   "cell_type": "code",
   "execution_count": 11,
   "id": "76be9641",
   "metadata": {},
   "outputs": [
    {
     "name": "stdout",
     "output_type": "stream",
     "text": [
      "702\n"
     ]
    }
   ],
   "source": [
    "# multiple line statement\n",
    "q=25+30+35+40+41+43+54+65+76+\\\n",
    "78+87+99+29\n",
    "print(q)"
   ]
  },
  {
   "cell_type": "code",
   "execution_count": 13,
   "id": "7b04fd82",
   "metadata": {},
   "outputs": [
    {
     "data": {
      "text/plain": [
       "45"
      ]
     },
     "execution_count": 13,
     "metadata": {},
     "output_type": "execute_result"
    }
   ],
   "source": [
    "# Variable creation\n",
    "a=45\n",
    "b=20\n",
    "a"
   ]
  },
  {
   "cell_type": "code",
   "execution_count": 14,
   "id": "0452922d",
   "metadata": {},
   "outputs": [
    {
     "data": {
      "text/plain": [
       "20"
      ]
     },
     "execution_count": 14,
     "metadata": {},
     "output_type": "execute_result"
    }
   ],
   "source": [
    "b"
   ]
  },
  {
   "cell_type": "code",
   "execution_count": 15,
   "id": "0507f8e5",
   "metadata": {},
   "outputs": [
    {
     "data": {
      "text/plain": [
       "100"
      ]
     },
     "execution_count": 15,
     "metadata": {},
     "output_type": "execute_result"
    }
   ],
   "source": [
    "a=100\n",
    "a"
   ]
  },
  {
   "cell_type": "code",
   "execution_count": 16,
   "id": "662035e3",
   "metadata": {},
   "outputs": [],
   "source": [
    "p=10\n",
    "q=20\n",
    "r=q"
   ]
  },
  {
   "cell_type": "code",
   "execution_count": 17,
   "id": "08038c28",
   "metadata": {},
   "outputs": [
    {
     "data": {
      "text/plain": [
       "140717291771272"
      ]
     },
     "execution_count": 17,
     "metadata": {},
     "output_type": "execute_result"
    }
   ],
   "source": [
    "id(q)"
   ]
  },
  {
   "cell_type": "code",
   "execution_count": 18,
   "id": "82ae2d64",
   "metadata": {},
   "outputs": [
    {
     "data": {
      "text/plain": [
       "140717291771272"
      ]
     },
     "execution_count": 18,
     "metadata": {},
     "output_type": "execute_result"
    }
   ],
   "source": [
    "id(r)"
   ]
  },
  {
   "cell_type": "markdown",
   "id": "bc027254",
   "metadata": {},
   "source": [
    "<h4>id() function is used to find the location of the variable in the memory.</h4>"
   ]
  },
  {
   "cell_type": "code",
   "execution_count": 19,
   "id": "1527781c",
   "metadata": {},
   "outputs": [],
   "source": [
    "intvar= 100 #Integer\n",
    "floatvar = 7.01 #float\n",
    "strvar = 'MATLAB<->Python' #string"
   ]
  },
  {
   "cell_type": "code",
   "execution_count": 20,
   "id": "04eae389",
   "metadata": {},
   "outputs": [
    {
     "name": "stdout",
     "output_type": "stream",
     "text": [
      "100\n",
      "7.01\n",
      "MATLAB<->Python\n"
     ]
    }
   ],
   "source": [
    "print(intvar)\n",
    "print(floatvar)\n",
    "print(strvar)"
   ]
  },
  {
   "cell_type": "code",
   "execution_count": 22,
   "id": "9b94b1af",
   "metadata": {},
   "outputs": [
    {
     "data": {
      "text/plain": [
       "str"
      ]
     },
     "execution_count": 22,
     "metadata": {},
     "output_type": "execute_result"
    }
   ],
   "source": [
    "type(strvar)"
   ]
  },
  {
   "cell_type": "code",
   "execution_count": 24,
   "id": "8d30e8ed",
   "metadata": {},
   "outputs": [
    {
     "name": "stdout",
     "output_type": "stream",
     "text": [
      "44 44\n",
      "44 44\n"
     ]
    }
   ],
   "source": [
    "p1=p2=p3=p4=44 #All variables are pointing the same value\n",
    "print(p1,p3)\n",
    "print(p2,p4)"
   ]
  },
  {
   "cell_type": "code",
   "execution_count": 25,
   "id": "08ab97c2",
   "metadata": {},
   "outputs": [],
   "source": [
    "# We need to import the sys function to run system-related functions\n",
    "import sys"
   ]
  },
  {
   "cell_type": "code",
   "execution_count": 30,
   "id": "47d864f6",
   "metadata": {},
   "outputs": [
    {
     "name": "stdout",
     "output_type": "stream",
     "text": [
      "10.24\n",
      "<class 'float'>\n",
      "24\n",
      "10.24 is float? True\n"
     ]
    }
   ],
   "source": [
    "value=10.24\n",
    "print(value)\n",
    "print(type(value))\n",
    "print(sys.getsizeof(value))\n",
    "print(value,\"is float?\",isinstance(value, float)) #check if an object belongs to a particular class (it returns true or false)"
   ]
  },
  {
   "cell_type": "code",
   "execution_count": 33,
   "id": "87453675",
   "metadata": {},
   "outputs": [],
   "source": [
    "value1=10+5j # complex number"
   ]
  },
  {
   "cell_type": "code",
   "execution_count": 34,
   "id": "854652f5",
   "metadata": {},
   "outputs": [
    {
     "data": {
      "text/plain": [
       "32"
      ]
     },
     "execution_count": 34,
     "metadata": {},
     "output_type": "execute_result"
    }
   ],
   "source": [
    "sys.getsizeof(value1)"
   ]
  },
  {
   "cell_type": "code",
   "execution_count": 36,
   "id": "c1fcf420",
   "metadata": {},
   "outputs": [
    {
     "data": {
      "text/plain": [
       "True"
      ]
     },
     "execution_count": 36,
     "metadata": {},
     "output_type": "execute_result"
    }
   ],
   "source": [
    "isinstance(value1,complex)"
   ]
  },
  {
   "cell_type": "markdown",
   "id": "383e11b4",
   "metadata": {},
   "source": [
    "<h4> Boolean values</h4>\n",
    "<p>Boolean values can be either true or false</p>"
   ]
  },
  {
   "cell_type": "code",
   "execution_count": 38,
   "id": "b3ad0031",
   "metadata": {},
   "outputs": [],
   "source": [
    "b1=True\n",
    "b2=False"
   ]
  },
  {
   "cell_type": "code",
   "execution_count": 40,
   "id": "5fad0ff2",
   "metadata": {},
   "outputs": [
    {
     "data": {
      "text/plain": [
       "bool"
      ]
     },
     "execution_count": 40,
     "metadata": {},
     "output_type": "execute_result"
    }
   ],
   "source": [
    "type(b2)"
   ]
  },
  {
   "cell_type": "code",
   "execution_count": 45,
   "id": "3e7cf26d",
   "metadata": {},
   "outputs": [
    {
     "name": "stdout",
     "output_type": "stream",
     "text": [
      "True\n",
      "False\n"
     ]
    }
   ],
   "source": [
    "print(isinstance(b2,int))\n",
    "print(isinstance(b1,str))"
   ]
  },
  {
   "cell_type": "code",
   "execution_count": 46,
   "id": "fc2c4ec8",
   "metadata": {},
   "outputs": [
    {
     "name": "stdout",
     "output_type": "stream",
     "text": [
      "Syntax error\n"
     ]
    }
   ],
   "source": [
    "string = 'Syntax error'\n",
    "print(string)"
   ]
  },
  {
   "cell_type": "code",
   "execution_count": 47,
   "id": "22d61639",
   "metadata": {},
   "outputs": [
    {
     "data": {
      "text/plain": [
       "str"
      ]
     },
     "execution_count": 47,
     "metadata": {},
     "output_type": "execute_result"
    }
   ],
   "source": [
    "type(string)"
   ]
  },
  {
   "cell_type": "markdown",
   "id": "64d0f904",
   "metadata": {},
   "source": [
    "### Indexing and slicing\n",
    "- Slicing is (n-1) method\n",
    "- Which means last value won't be printed"
   ]
  },
  {
   "cell_type": "code",
   "execution_count": 48,
   "id": "a3e8a72f",
   "metadata": {},
   "outputs": [
    {
     "data": {
      "text/plain": [
       "12"
      ]
     },
     "execution_count": 48,
     "metadata": {},
     "output_type": "execute_result"
    }
   ],
   "source": [
    "len(string)"
   ]
  },
  {
   "cell_type": "code",
   "execution_count": 53,
   "id": "7ecc1f85",
   "metadata": {},
   "outputs": [
    {
     "name": "stdout",
     "output_type": "stream",
     "text": [
      "error\n"
     ]
    }
   ],
   "source": [
    "print(string[7:12])"
   ]
  },
  {
   "cell_type": "markdown",
   "id": "78c10365",
   "metadata": {},
   "source": [
    "<p> If no index is given, by default it'll go till the end </p>"
   ]
  },
  {
   "cell_type": "markdown",
   "id": "e99f6d9f",
   "metadata": {},
   "source": [
    "### Variables\n",
    "- Variables is a separate storage location to store any variables\n",
    "- Variable name should not start with numbers\n",
    "- It should not have a special characters other than underscore\n",
    "- It is case sensitive"
   ]
  },
  {
   "cell_type": "markdown",
   "id": "9158a298",
   "metadata": {},
   "source": [
    "## Comments\n",
    "- Comments are used to make the code more readable\n",
    "- Comments prevent execution of the code while testing\n",
    "- Hash (#) is used for single line comment"
   ]
  },
  {
   "cell_type": "code",
   "execution_count": null,
   "id": "11a875ae",
   "metadata": {},
   "outputs": [],
   "source": []
  }
 ],
 "metadata": {
  "kernelspec": {
   "display_name": "Python 3 (ipykernel)",
   "language": "python",
   "name": "python3"
  },
  "language_info": {
   "codemirror_mode": {
    "name": "ipython",
    "version": 3
   },
   "file_extension": ".py",
   "mimetype": "text/x-python",
   "name": "python",
   "nbconvert_exporter": "python",
   "pygments_lexer": "ipython3",
   "version": "3.11.5"
  }
 },
 "nbformat": 4,
 "nbformat_minor": 5
}
